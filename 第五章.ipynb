{
 "cells": [
  {
   "cell_type": "markdown",
   "metadata": {},
   "source": [
    "## Numpy 套件"
   ]
  },
  {
   "cell_type": "code",
   "execution_count": 1,
   "metadata": {},
   "outputs": [
    {
     "name": "stdout",
     "output_type": "stream",
     "text": [
      "[1, 2, 3, 4, 5, 1, 2, 3, 4, 5, 1, 2, 3, 4, 5]\n"
     ]
    }
   ],
   "source": [
    "a=[1,2,3,4,5]\n",
    "print(a*3)"
   ]
  },
  {
   "cell_type": "markdown",
   "metadata": {},
   "source": [
    "### numpy套件的ndarray型態，提供element-wise的操作"
   ]
  },
  {
   "cell_type": "code",
   "execution_count": 2,
   "metadata": {},
   "outputs": [
    {
     "name": "stdout",
     "output_type": "stream",
     "text": [
      "[ 3  6  9 12 15]\n"
     ]
    }
   ],
   "source": [
    "import numpy as np\n",
    "b = np.array([1,2,3,4,5])\n",
    "print(b*3)"
   ]
  },
  {
   "cell_type": "code",
   "execution_count": 3,
   "metadata": {},
   "outputs": [
    {
     "name": "stdout",
     "output_type": "stream",
     "text": [
      "<class 'numpy.ndarray'>\n",
      "1\n",
      "(5,)\n",
      "int32\n"
     ]
    }
   ],
   "source": [
    "print(type(b))\n",
    "print(b.ndim) #ndarray的維度\n",
    "print(b.shape) #ndarray的shape\n",
    "print(b.dtype) #ndarray的資料型態"
   ]
  },
  {
   "cell_type": "code",
   "execution_count": 4,
   "metadata": {},
   "outputs": [
    {
     "name": "stdout",
     "output_type": "stream",
     "text": [
      "[0. 0. 0. 0. 0. 0.]\n",
      "[[0. 0. 0. 0. 0. 0.]\n",
      " [0. 0. 0. 0. 0. 0.]\n",
      " [0. 0. 0. 0. 0. 0.]]\n",
      "[[[0. 0. 0. 0. 0. 0.]\n",
      "  [0. 0. 0. 0. 0. 0.]\n",
      "  [0. 0. 0. 0. 0. 0.]]\n",
      "\n",
      " [[0. 0. 0. 0. 0. 0.]\n",
      "  [0. 0. 0. 0. 0. 0.]\n",
      "  [0. 0. 0. 0. 0. 0.]]]\n"
     ]
    }
   ],
   "source": [
    "print(np.zeros(6)) #產生六個元素均為0的一維array\n",
    "print(np.zeros((3,6))) #產生18個元素均為0的二維array\n",
    "print(np.zeros((2,3,6))) #產生36個元素均為0的三維array"
   ]
  },
  {
   "cell_type": "code",
   "execution_count": 5,
   "metadata": {},
   "outputs": [
    {
     "name": "stdout",
     "output_type": "stream",
     "text": [
      "[0. 0. 0. 0. 0. 0. 0. 0. 0. 0. 0. 0. 0. 0. 0. 0.]\n",
      "(16,)\n",
      "[[0. 0. 0. 0.]\n",
      " [0. 0. 0. 0.]\n",
      " [0. 0. 0. 0.]\n",
      " [0. 0. 0. 0.]]\n",
      "(4, 4)\n"
     ]
    }
   ],
   "source": [
    "a=np.zeros(16)\n",
    "print(a)\n",
    "print(a.shape)\n",
    "b=a.reshape((4,4)) #改變資料的維度為4x4\n",
    "print(b)\n",
    "print(b.shape)"
   ]
  },
  {
   "cell_type": "markdown",
   "metadata": {},
   "source": [
    "### ndarray的進階操作"
   ]
  },
  {
   "cell_type": "code",
   "execution_count": 6,
   "metadata": {},
   "outputs": [
    {
     "name": "stdout",
     "output_type": "stream",
     "text": [
      "[ 0  1  2  3  4  5  6  7  8  9 10]\n"
     ]
    }
   ],
   "source": [
    "print(np.arange(11))  #產生一個0~10的一維陣列"
   ]
  },
  {
   "cell_type": "code",
   "execution_count": 7,
   "metadata": {},
   "outputs": [
    {
     "name": "stdout",
     "output_type": "stream",
     "text": [
      "[0 1 2 3 4 5 6 7 8 9]\n",
      "0\n",
      "[0 1 2 3 4]\n"
     ]
    }
   ],
   "source": [
    "my_array = np.arange(10)\n",
    "print(my_array)\n",
    "print(my_array[0])\n",
    "print(my_array[0:5]) #取0, 1,  2, 3, 4位置的值"
   ]
  },
  {
   "cell_type": "code",
   "execution_count": 8,
   "metadata": {},
   "outputs": [
    {
     "name": "stdout",
     "output_type": "stream",
     "text": [
      "[[0 1 2 3 4]\n",
      " [5 6 7 8 9]]\n",
      "[[0 1 2 3 4]\n",
      " [5 6 7 8 9]]\n",
      "[[0 1 2 3 4]\n",
      " [5 6 7 8 9]]\n"
     ]
    }
   ],
   "source": [
    "a=np.array([[0,1,2,3,4],[5,6,7,8,9]])\n",
    "print(a)\n",
    "b=np.array([np.arange(0,5),np.arange(5,10)])\n",
    "print(b)\n",
    "c=np.array(np.arange(0,10).reshape((2,5)))\n",
    "print(c)"
   ]
  },
  {
   "cell_type": "markdown",
   "metadata": {},
   "source": [
    "### 二維ndarray取值"
   ]
  },
  {
   "cell_type": "code",
   "execution_count": 9,
   "metadata": {},
   "outputs": [
    {
     "name": "stdout",
     "output_type": "stream",
     "text": [
      "[[0 1 2 3 4]\n",
      " [5 6 7 8 9]]\n",
      "[0 1 2 3 4]\n",
      "[5 6 7 8 9]\n",
      "[0 5]\n",
      "6\n"
     ]
    }
   ],
   "source": [
    "\n",
    "import numpy as np\n",
    "my_2d_array=np.array(np.arange(0,10).reshape((2,5)))\n",
    "print(my_2d_array)\n",
    "print(my_2d_array[0,:]) #第0列的元素\n",
    "print(my_2d_array[1,]) #第1列的元素\n",
    "print(my_2d_array[:,0]) #第0欄的元素\n",
    "print(my_2d_array[1, 1]) #第1列第1欄的元素"
   ]
  },
  {
   "cell_type": "markdown",
   "metadata": {},
   "source": [
    "### 假設有六個組別\"Modern Web\", \"DevOps\", \"Cloud\", \"Big Data\", \"Security\", \"自我挑戰組\"， 其參加人數分別為56, 8, 19, 14, 6, 71人"
   ]
  },
  {
   "cell_type": "code",
   "execution_count": 10,
   "metadata": {},
   "outputs": [
    {
     "name": "stdout",
     "output_type": "stream",
     "text": [
      "['Modern Web' 'DevOps' 'Cloud' 'Big Data' 'Security' '自我挑戰組']\n",
      "[56  8 19 14  6 71]\n"
     ]
    }
   ],
   "source": [
    "import numpy as np\n",
    "groups = [\"Modern Web\", \"DevOps\", \"Cloud\", \"Big Data\", \"Security\", \"自我挑戰組\"]\n",
    "ironman = [56, 8, 19, 14, 6, 71]\n",
    "groups_array = np.array(groups)\n",
    "ironman_array = np.array(ironman)\n",
    "print(groups_array)\n",
    "print(ironman_array)"
   ]
  },
  {
   "cell_type": "markdown",
   "metadata": {},
   "source": [
    "### 請問大於10人的組別有哪些?"
   ]
  },
  {
   "cell_type": "code",
   "execution_count": 11,
   "metadata": {},
   "outputs": [
    {
     "name": "stdout",
     "output_type": "stream",
     "text": [
      "[ True False  True  True False  True]\n",
      "['Modern Web' 'Cloud' 'Big Data' '自我挑戰組']\n"
     ]
    }
   ],
   "source": [
    "#用人數去篩選組別\n",
    "print(ironman_array >= 10)\n",
    "print(groups_array[ironman_array>=10])"
   ]
  },
  {
   "cell_type": "markdown",
   "metadata": {},
   "source": [
    "### 除了自我挑戰組之外的組別，人數為何?"
   ]
  },
  {
   "cell_type": "code",
   "execution_count": 12,
   "metadata": {},
   "outputs": [
    {
     "name": "stdout",
     "output_type": "stream",
     "text": [
      "[ True  True  True  True  True False]\n",
      "[56  8 19 14  6]\n"
     ]
    }
   ],
   "source": [
    "#用組別去篩選人數\n",
    "print(groups_array != \"自我挑戰組\")\n",
    "print(ironman_array[groups_array != \"自我挑戰組\"])"
   ]
  },
  {
   "cell_type": "markdown",
   "metadata": {},
   "source": [
    "### ndarray 空值 nan 無限大 inf"
   ]
  },
  {
   "cell_type": "code",
   "execution_count": 13,
   "metadata": {},
   "outputs": [
    {
     "name": "stdout",
     "output_type": "stream",
     "text": [
      "[56.  8. 19. 14.  6. nan]\n"
     ]
    }
   ],
   "source": [
    "nan_array = np.array([56, 8, 19, 14, 6, np.nan])\n",
    "print(nan_array)"
   ]
  },
  {
   "cell_type": "markdown",
   "metadata": {},
   "source": [
    "### 生成10組標準常態分配(平均為0，標準差為1的常態分配)隨機變數"
   ]
  },
  {
   "cell_type": "code",
   "execution_count": 14,
   "metadata": {},
   "outputs": [
    {
     "name": "stdout",
     "output_type": "stream",
     "text": [
      "[-1.85976550e-01  8.24500542e-01 -1.88128981e-04  4.81832917e-01\n",
      " -7.11453807e-01  1.07428400e-01 -4.35540582e-02 -1.13883486e-01\n",
      " -2.32004694e+00  1.37977334e+00]\n"
     ]
    }
   ],
   "source": [
    "normal_samples = np.random.normal(size=10)\n",
    "print(normal_samples)"
   ]
  },
  {
   "cell_type": "markdown",
   "metadata": {},
   "source": [
    "### 生成10組介於0~1之間的隨機變數"
   ]
  },
  {
   "cell_type": "code",
   "execution_count": 15,
   "metadata": {},
   "outputs": [
    {
     "name": "stdout",
     "output_type": "stream",
     "text": [
      "[0.20304976 0.73116455 0.35890922 0.88051509 0.30051297 0.79943367\n",
      " 0.3080178  0.39038773 0.47499392 0.89730735]\n"
     ]
    }
   ],
   "source": [
    "uniform_samples = np.random.uniform(size=10)\n",
    "print(uniform_samples)"
   ]
  },
  {
   "cell_type": "code",
   "execution_count": null,
   "metadata": {},
   "outputs": [],
   "source": []
  }
 ],
 "metadata": {
  "kernelspec": {
   "display_name": "Python 3",
   "language": "python",
   "name": "python3"
  },
  "language_info": {
   "codemirror_mode": {
    "name": "ipython",
    "version": 3
   },
   "file_extension": ".py",
   "mimetype": "text/x-python",
   "name": "python",
   "nbconvert_exporter": "python",
   "pygments_lexer": "ipython3",
   "version": "3.7.4"
  }
 },
 "nbformat": 4,
 "nbformat_minor": 2
}
